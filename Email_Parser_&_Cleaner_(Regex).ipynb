{
  "nbformat": 4,
  "nbformat_minor": 0,
  "metadata": {
    "colab": {
      "provenance": [],
      "toc_visible": true,
      "mount_file_id": "1UivWtiWuyejJHdm7th1Arc9_nCkeSWaR",
      "authorship_tag": "ABX9TyMdwsOfRCSciKdB6WEd0ofv",
      "include_colab_link": true
    },
    "kernelspec": {
      "name": "python3",
      "display_name": "Python 3"
    },
    "language_info": {
      "name": "python"
    }
  },
  "cells": [
    {
      "cell_type": "markdown",
      "metadata": {
        "id": "view-in-github",
        "colab_type": "text"
      },
      "source": [
        "<a href=\"https://colab.research.google.com/github/rashmishreev/gemini-ai-usecases/blob/main/Email_Parser_%26_Cleaner_(Regex).ipynb\" target=\"_parent\"><img src=\"https://colab.research.google.com/assets/colab-badge.svg\" alt=\"Open In Colab\"/></a>"
      ]
    },
    {
      "cell_type": "markdown",
      "source": [
        "# **A Python utility to clean and parse raw email data for NLP and GenAI applications using Regex.**"
      ],
      "metadata": {
        "id": "lnQ6IrrmBdyD"
      }
    },
    {
      "cell_type": "markdown",
      "source": [
        "Import libraries"
      ],
      "metadata": {
        "id": "yQRHJCgqkR7V"
      }
    },
    {
      "cell_type": "markdown",
      "source": [
        "# Setup\n",
        "\n",
        "Connect drive and load dataset"
      ],
      "metadata": {
        "id": "UlwXQ55Zx17F"
      }
    },
    {
      "cell_type": "code",
      "execution_count": null,
      "metadata": {
        "id": "2RvzsmrgkVWm"
      },
      "outputs": [],
      "source": [
        "import re\n",
        "import pandas as pd\n",
        "from google.colab import drive\n",
        "from google.colab import files"
      ]
    },
    {
      "cell_type": "markdown",
      "source": [
        "Mount Google Drive to access folders and files in drive"
      ],
      "metadata": {
        "id": "P19oMK8MkeRp"
      }
    },
    {
      "cell_type": "code",
      "source": [
        "drive.mount('/content/drive')"
      ],
      "metadata": {
        "colab": {
          "base_uri": "https://localhost:8080/"
        },
        "id": "SdomOOm2kxHX",
        "outputId": "c0564f93-b402-4ac7-d59d-aa377f3f1dbd"
      },
      "execution_count": null,
      "outputs": [
        {
          "output_type": "stream",
          "name": "stdout",
          "text": [
            "Drive already mounted at /content/drive; to attempt to forcibly remount, call drive.mount(\"/content/drive\", force_remount=True).\n"
          ]
        }
      ]
    },
    {
      "cell_type": "markdown",
      "source": [
        "Uncomment the below cell to check the folders and files in your drive"
      ],
      "metadata": {
        "id": "p3OsbxuXm4Ht"
      }
    },
    {
      "cell_type": "code",
      "source": [
        "# import os\n",
        "\n",
        "# print(\"Files and folders in the root of your Google Drive:\")\n",
        "# for item in os.listdir('/content/drive/MyDrive/Colab Notebooks/):\n",
        "#     print(item)"
      ],
      "metadata": {
        "id": "PIkrcJB-mzY8"
      },
      "execution_count": 1,
      "outputs": []
    },
    {
      "cell_type": "code",
      "source": [
        "file_path = '/content/drive/MyDrive/Colab Notebooks/Data/applied_jobs_email.csv'  # File path of the dataset from google drive\n",
        "\n",
        "try:\n",
        "    df = pd.read_csv(file_path)\n",
        "    #print(df.head(1)) # print the first 5 rows\n",
        "    print(f\"Shape of the DataFrame: {df.shape}\") # print dataframe shape\n",
        "except FileNotFoundError:\n",
        "    print(f\"Error: File not found at {file_path}\")\n",
        "except Exception as e:\n",
        "    print(f\"An error occurred: {e}\")\n"
      ],
      "metadata": {
        "colab": {
          "base_uri": "https://localhost:8080/"
        },
        "id": "r-H2iXKTmNMs",
        "outputId": "2007e3e1-5bac-443b-a60a-9f867ba4bbe7"
      },
      "execution_count": null,
      "outputs": [
        {
          "output_type": "stream",
          "name": "stdout",
          "text": [
            "Shape of the DataFrame: (358, 7)\n"
          ]
        }
      ]
    },
    {
      "cell_type": "markdown",
      "source": [
        "# Pre-processing"
      ],
      "metadata": {
        "id": "ZViHwQVTx7-H"
      }
    },
    {
      "cell_type": "markdown",
      "source": [
        "Adding headers to the dataframe to define the column labels as the original dataset does not have column labels"
      ],
      "metadata": {
        "id": "5vKkHjz4sMHb"
      }
    },
    {
      "cell_type": "code",
      "source": [
        "# Add column headers\n",
        "new_headers = ['subject_incomplete', 'sender', 'receiver', 'date', 'col5', 'col6', 'email_body'] #adjust the number of columns\n",
        "df.columns = new_headers"
      ],
      "metadata": {
        "id": "Qnqe1OuVrdwN"
      },
      "execution_count": null,
      "outputs": []
    },
    {
      "cell_type": "code",
      "source": [
        "df.info()"
      ],
      "metadata": {
        "colab": {
          "base_uri": "https://localhost:8080/"
        },
        "id": "P_3heReCsI0A",
        "outputId": "0deaf94e-bd70-412b-9172-3fd64ffc54fc"
      },
      "execution_count": null,
      "outputs": [
        {
          "output_type": "stream",
          "name": "stdout",
          "text": [
            "<class 'pandas.core.frame.DataFrame'>\n",
            "RangeIndex: 358 entries, 0 to 357\n",
            "Data columns (total 7 columns):\n",
            " #   Column              Non-Null Count  Dtype \n",
            "---  ------              --------------  ----- \n",
            " 0   subject_incomplete  358 non-null    object\n",
            " 1   sender              358 non-null    object\n",
            " 2   receiver            358 non-null    object\n",
            " 3   date                358 non-null    object\n",
            " 4   col5                358 non-null    object\n",
            " 5   col6                358 non-null    int64 \n",
            " 6   email_body          358 non-null    object\n",
            "dtypes: int64(1), object(6)\n",
            "memory usage: 19.7+ KB\n"
          ]
        }
      ]
    },
    {
      "cell_type": "code",
      "source": [
        "# Drop col5 and col6; their original meaning in the raw data was unclear and they are not required\n",
        "cols_to_drop = ['col5', 'col6']\n",
        "df = df.drop(columns=cols_to_drop, errors='ignore') # errors='ignore' prevents error if column does not exist."
      ],
      "metadata": {
        "id": "gtN32NzdsaXv"
      },
      "execution_count": null,
      "outputs": []
    },
    {
      "cell_type": "markdown",
      "source": [
        "## Derived Columns"
      ],
      "metadata": {
        "id": "ruND0YjEyGL6"
      }
    },
    {
      "cell_type": "markdown",
      "source": [
        "Extract email subject and date to separate columns"
      ],
      "metadata": {
        "id": "bLFH9AJQl6QR"
      }
    },
    {
      "cell_type": "code",
      "source": [
        "import re\n",
        "import pandas as pd\n",
        "\n",
        "def extract_subject(text):\n",
        "    match = re.search(r\"Subject:\\s*(.*?)(?:\\n|From:)\", text, re.DOTALL)\n",
        "    return match.group(1).strip() if match else None\n",
        "\n",
        "def extract_email_datetime(text):\n",
        "    match = re.search(r\"Date:\\s*(.*?)(?:\\n|To:)\", text, re.DOTALL)\n",
        "    return match.group(1).strip() if match else None\n"
      ],
      "metadata": {
        "id": "Yupsx1yvnKAD"
      },
      "execution_count": null,
      "outputs": []
    },
    {
      "cell_type": "code",
      "source": [
        "# Extract subject and datetime from body\n",
        "df['extracted_subject'] = df['email_body'].apply(extract_subject)\n",
        "df['extracted_datetime'] = df['email_body'].apply(extract_email_datetime)"
      ],
      "metadata": {
        "id": "GrL5wFtztmeV"
      },
      "execution_count": null,
      "outputs": []
    },
    {
      "cell_type": "markdown",
      "source": [
        "Convert to datetime type"
      ],
      "metadata": {
        "id": "3ErxzfmemIbR"
      }
    },
    {
      "cell_type": "code",
      "source": [
        "df['parsed_datetime'] = pd.to_datetime(\n",
        "    df['extracted_datetime'],\n",
        "    format='%m/%d/%y, %I:%M %p',\n",
        "    errors='coerce'\n",
        ")"
      ],
      "metadata": {
        "id": "aUG2QRqatvs1"
      },
      "execution_count": null,
      "outputs": []
    },
    {
      "cell_type": "markdown",
      "source": [
        "Extract only date to separate column"
      ],
      "metadata": {
        "id": "3rN7NgQomg5o"
      }
    },
    {
      "cell_type": "code",
      "source": [
        "df['date_only'] = pd.to_datetime(df['parsed_datetime'].dt.date)"
      ],
      "metadata": {
        "id": "AGVN9J6guKy7"
      },
      "execution_count": null,
      "outputs": []
    },
    {
      "cell_type": "markdown",
      "source": [
        "Derive week, month, year, and days_since (days since original email) columns from date"
      ],
      "metadata": {
        "id": "G8_OWicEmpCB"
      }
    },
    {
      "cell_type": "code",
      "source": [
        "df['week'] = df['date_only'].dt.isocalendar().week"
      ],
      "metadata": {
        "id": "m-c573vmvcNL"
      },
      "execution_count": null,
      "outputs": []
    },
    {
      "cell_type": "code",
      "source": [
        "df['month'] = df['date_only'].dt.month\n",
        "df['year'] = df['date_only'].dt.year"
      ],
      "metadata": {
        "id": "mR-AeheSwZBn"
      },
      "execution_count": null,
      "outputs": []
    },
    {
      "cell_type": "code",
      "source": [
        "df['days_since'] = (pd.Timestamp.today() - df['date_only']).dt.days"
      ],
      "metadata": {
        "id": "tEffKbDPwavZ"
      },
      "execution_count": null,
      "outputs": []
    },
    {
      "cell_type": "markdown",
      "source": [
        "## Pre-processing Function"
      ],
      "metadata": {
        "id": "y2NsPWEqyJeY"
      }
    },
    {
      "cell_type": "code",
      "source": [
        "import re\n",
        "\n",
        "def remove_headers(text):\n",
        "    \"\"\"Removes standard email headers like Subject, From, To, and Date.\"\"\"\n",
        "    header_fields = [\"Subject\", \"From\", \"To\", \"Date\"]\n",
        "    for field in header_fields:\n",
        "        text = re.sub(rf\"(?i)({field}:.*?\\n)(.*?\\n)?\", \"\", text)\n",
        "    return text\n",
        "\n",
        "def remove_email_addresses(text):\n",
        "    \"\"\"Removes all email addresses from the text.\"\"\"\n",
        "    return re.sub(r\"\\b[\\w.-]+@[\\w.-]+\\.\\w+\\b\", \"\", text)\n",
        "\n",
        "def remove_noisy_phrases(text):\n",
        "    \"\"\"Removes banners, legal footers, and social media links using pattern matching.\"\"\"\n",
        "    noisy_phrases = [\n",
        "        r\"(?i)logo.*\",\n",
        "        r\"(?i)follow us.*\",\n",
        "        r\"(?i)unsubscribe.*\",\n",
        "        r\"(?i)privacy policy.*\",\n",
        "        r\"(?i)cookie policy.*\",\n",
        "        r\"(?i)this mailbox is not monitored.*\",\n",
        "        r\"(?i)please do not reply to this email.*\",\n",
        "        r\"(?i)help & support.*\",\n",
        "        r\"(?i)explore our careers.*\",\n",
        "        r\"(?i)linkedin|facebook|glassdoor|youtube|instagram\",\n",
        "        r\"(?i)registered office.*\",\n",
        "        r\"(?i)company number.*\",\n",
        "        r\"(?i)©.*\",\n",
        "    ]\n",
        "    for pattern in noisy_phrases:\n",
        "        text = re.sub(pattern, \"\", text)\n",
        "    return text\n",
        "\n",
        "def truncate_after_signoff(text):\n",
        "    \"\"\"Truncates the email body after a sign-off phrase like 'Best regards'.\"\"\"\n",
        "    lines = text.splitlines()\n",
        "    sign_off_keywords = [\n",
        "        \"sincerely\", \"regards\", \"best regards\", \"warm regards\", \"kind regards\"\n",
        "    ]\n",
        "    cutoff_index = len(lines)\n",
        "    for i, line in enumerate(lines):\n",
        "        if any(kw in line.lower() for kw in sign_off_keywords):\n",
        "            cutoff_index = min(i + 2, len(lines))  # Keep 1 line after sign-off (Company name)\n",
        "            break\n",
        "    return \"\\n\".join(lines[:cutoff_index])\n",
        "\n",
        "def remove_footer_keywords(text):\n",
        "    \"\"\"Removes any leftover content that contains common footer keywords.\"\"\"\n",
        "    footer_keywords = [\n",
        "        \"unsubscribe\", \"privacy policy\", \"cookie policy\", \"help & support\",\n",
        "        \"follow us\", \"linkedin\", \"glassdoor\", \"youtube\", \"facebook\", \"instagram\",\n",
        "        \"do not reply\", \"data privacy\"\n",
        "    ]\n",
        "    footer_pattern = r\"|\".join(footer_keywords)\n",
        "    return re.split(rf\"(?i){footer_pattern}\", text)[0]\n",
        "\n",
        "def clean_whitespace(text):\n",
        "    \"\"\"Cleans up excessive whitespace and line breaks.\"\"\"\n",
        "    text = re.sub(r\"\\n{2,}\", \"\\n\", text)    # Collapse multiple newlines\n",
        "    text = re.sub(r\"[ \\t]{2,}\", \" \", text)  # Collapse multiple spaces/tabs\n",
        "    return text.strip()\n",
        "\n",
        "def remove_zero_width_chars(text: str) -> str:\n",
        "    \"\"\"\n",
        "    Removes zero-width characters such as:\n",
        "    - Zero Width Space (\\u200b)\n",
        "    - Zero Width Non-Joiner (\\u200c)\n",
        "    - Zero Width Joiner (\\u200d)\n",
        "    - Zero Width No-Break Space / BOM (\\uFEFF)\n",
        "    \"\"\"\n",
        "    return re.sub(r'[\\u200b\\u200c\\u200d\\uFEFF]', '', text)\n",
        "\n",
        "\n",
        "def clean_email_body(text):\n",
        "    \"\"\"\n",
        "    Cleans an email body by removing headers, email addresses, banners/logos,\n",
        "    footers, and anything after sign-offs. Keeps only the meaningful message.\n",
        "\n",
        "    Args:\n",
        "        text (str): Raw email content.\n",
        "\n",
        "    Returns:\n",
        "        str: Cleaned email body.\n",
        "    \"\"\"\n",
        "    text = remove_headers(text)\n",
        "    text = remove_email_addresses(text)\n",
        "    text = remove_noisy_phrases(text)\n",
        "    text = truncate_after_signoff(text)\n",
        "    text = remove_footer_keywords(text)\n",
        "    text = clean_whitespace(text)\n",
        "    text = remove_zero_width_chars(text)\n",
        "    return text"
      ],
      "metadata": {
        "id": "mEgGPbzn7723"
      },
      "execution_count": null,
      "outputs": []
    },
    {
      "cell_type": "code",
      "source": [
        "sample_email = df.loc[15, 'email_body']  # Change 15 to the index of any email you want to test\n",
        "cleaned_sample = clean_email_body(sample_email)\n",
        "print(cleaned_sample)"
      ],
      "metadata": {
        "colab": {
          "base_uri": "https://localhost:8080/"
        },
        "id": "0WqGLdfxBvkz",
        "outputId": "1fc793f5-ec18-4b92-e211-15de79a37523"
      },
      "execution_count": null,
      "outputs": [
        {
          "output_type": "stream",
          "name": "stdout",
          "text": [
            "Hi Rashmi Shree,\n",
            "Thank you for applying to Version 1. This email confirms that we have received your application for our Data Storytelling Analyst role. There are many great companies out there, so we appreciate your interest in joining our growing team. \n",
            "So, what happens next? Our Talent Acquisition team will assess your experience and skills to see if they are a match for the role that you applied for, as well as for others that may be a fit. Please know we are committed to getting back to you with an update as soon as we can, but due to the volume of applications, it can sometimes take us longer to get in touch. In the meantime please check out our Hiring FAQs about our recruitment process. \n",
            "Please \n",
            "Kind Regards,\n",
            "Version 1 Talent Acquisition Team\n"
          ]
        }
      ]
    },
    {
      "cell_type": "code",
      "source": [
        "# Apply cleaning function to the 'email_body' column\n",
        "df['cleaned_body'] = df['email_body'].apply(clean_email_body)\n",
        "\n",
        "# Preview the results\n",
        "df[['email_body', 'cleaned_body']].head()"
      ],
      "metadata": {
        "colab": {
          "base_uri": "https://localhost:8080/",
          "height": 206
        },
        "id": "rwI-hko8Byr8",
        "outputId": "93be8879-c678-4cfd-fed0-4acac1e1dd5a"
      },
      "execution_count": null,
      "outputs": [
        {
          "output_type": "execute_result",
          "data": {
            "text/plain": [
              "                                          email_body  \\\n",
              "0  Subject:\\r\\nDecision Scientist at Tesco: we’ve...   \n",
              "1  Subject:\\r\\nRashmi Shree, your application was...   \n",
              "2  Subject:\\r\\nThank you for Applying to Amazon!\\...   \n",
              "3  Subject:\\r\\nYou have successfully submitted yo...   \n",
              "4  Subject:\\r\\nYour IBM Application: Next Steps\\r...   \n",
              "\n",
              "                                        cleaned_body  \n",
              "0  Hello Rashmi Shree, \\n \\nWe’ve received your a...  \n",
              "1  Your application was sent to Healthify\\n͏ ͏ ͏ ...  \n",
              "2  Thank you for Applying to Amazon!\\nAmazon.jobs...  \n",
              "3  IBM Careers\\nIBM Careers IBM \\n \\nDear Rashmi ...  \n",
              "4  IBM Careers\\nIBM Careers IBM \\n \\nRef: 14499 -...  "
            ],
            "text/html": [
              "\n",
              "  <div id=\"df-b9fdefe5-d2d0-4eb9-8c17-652d9be25df7\" class=\"colab-df-container\">\n",
              "    <div>\n",
              "<style scoped>\n",
              "    .dataframe tbody tr th:only-of-type {\n",
              "        vertical-align: middle;\n",
              "    }\n",
              "\n",
              "    .dataframe tbody tr th {\n",
              "        vertical-align: top;\n",
              "    }\n",
              "\n",
              "    .dataframe thead th {\n",
              "        text-align: right;\n",
              "    }\n",
              "</style>\n",
              "<table border=\"1\" class=\"dataframe\">\n",
              "  <thead>\n",
              "    <tr style=\"text-align: right;\">\n",
              "      <th></th>\n",
              "      <th>email_body</th>\n",
              "      <th>cleaned_body</th>\n",
              "    </tr>\n",
              "  </thead>\n",
              "  <tbody>\n",
              "    <tr>\n",
              "      <th>0</th>\n",
              "      <td>Subject:\\r\\nDecision Scientist at Tesco: we’ve...</td>\n",
              "      <td>Hello Rashmi Shree, \\n \\nWe’ve received your a...</td>\n",
              "    </tr>\n",
              "    <tr>\n",
              "      <th>1</th>\n",
              "      <td>Subject:\\r\\nRashmi Shree, your application was...</td>\n",
              "      <td>Your application was sent to Healthify\\n͏ ͏ ͏ ...</td>\n",
              "    </tr>\n",
              "    <tr>\n",
              "      <th>2</th>\n",
              "      <td>Subject:\\r\\nThank you for Applying to Amazon!\\...</td>\n",
              "      <td>Thank you for Applying to Amazon!\\nAmazon.jobs...</td>\n",
              "    </tr>\n",
              "    <tr>\n",
              "      <th>3</th>\n",
              "      <td>Subject:\\r\\nYou have successfully submitted yo...</td>\n",
              "      <td>IBM Careers\\nIBM Careers IBM \\n \\nDear Rashmi ...</td>\n",
              "    </tr>\n",
              "    <tr>\n",
              "      <th>4</th>\n",
              "      <td>Subject:\\r\\nYour IBM Application: Next Steps\\r...</td>\n",
              "      <td>IBM Careers\\nIBM Careers IBM \\n \\nRef: 14499 -...</td>\n",
              "    </tr>\n",
              "  </tbody>\n",
              "</table>\n",
              "</div>\n",
              "    <div class=\"colab-df-buttons\">\n",
              "\n",
              "  <div class=\"colab-df-container\">\n",
              "    <button class=\"colab-df-convert\" onclick=\"convertToInteractive('df-b9fdefe5-d2d0-4eb9-8c17-652d9be25df7')\"\n",
              "            title=\"Convert this dataframe to an interactive table.\"\n",
              "            style=\"display:none;\">\n",
              "\n",
              "  <svg xmlns=\"http://www.w3.org/2000/svg\" height=\"24px\" viewBox=\"0 -960 960 960\">\n",
              "    <path d=\"M120-120v-720h720v720H120Zm60-500h600v-160H180v160Zm220 220h160v-160H400v160Zm0 220h160v-160H400v160ZM180-400h160v-160H180v160Zm440 0h160v-160H620v160ZM180-180h160v-160H180v160Zm440 0h160v-160H620v160Z\"/>\n",
              "  </svg>\n",
              "    </button>\n",
              "\n",
              "  <style>\n",
              "    .colab-df-container {\n",
              "      display:flex;\n",
              "      gap: 12px;\n",
              "    }\n",
              "\n",
              "    .colab-df-convert {\n",
              "      background-color: #E8F0FE;\n",
              "      border: none;\n",
              "      border-radius: 50%;\n",
              "      cursor: pointer;\n",
              "      display: none;\n",
              "      fill: #1967D2;\n",
              "      height: 32px;\n",
              "      padding: 0 0 0 0;\n",
              "      width: 32px;\n",
              "    }\n",
              "\n",
              "    .colab-df-convert:hover {\n",
              "      background-color: #E2EBFA;\n",
              "      box-shadow: 0px 1px 2px rgba(60, 64, 67, 0.3), 0px 1px 3px 1px rgba(60, 64, 67, 0.15);\n",
              "      fill: #174EA6;\n",
              "    }\n",
              "\n",
              "    .colab-df-buttons div {\n",
              "      margin-bottom: 4px;\n",
              "    }\n",
              "\n",
              "    [theme=dark] .colab-df-convert {\n",
              "      background-color: #3B4455;\n",
              "      fill: #D2E3FC;\n",
              "    }\n",
              "\n",
              "    [theme=dark] .colab-df-convert:hover {\n",
              "      background-color: #434B5C;\n",
              "      box-shadow: 0px 1px 3px 1px rgba(0, 0, 0, 0.15);\n",
              "      filter: drop-shadow(0px 1px 2px rgba(0, 0, 0, 0.3));\n",
              "      fill: #FFFFFF;\n",
              "    }\n",
              "  </style>\n",
              "\n",
              "    <script>\n",
              "      const buttonEl =\n",
              "        document.querySelector('#df-b9fdefe5-d2d0-4eb9-8c17-652d9be25df7 button.colab-df-convert');\n",
              "      buttonEl.style.display =\n",
              "        google.colab.kernel.accessAllowed ? 'block' : 'none';\n",
              "\n",
              "      async function convertToInteractive(key) {\n",
              "        const element = document.querySelector('#df-b9fdefe5-d2d0-4eb9-8c17-652d9be25df7');\n",
              "        const dataTable =\n",
              "          await google.colab.kernel.invokeFunction('convertToInteractive',\n",
              "                                                    [key], {});\n",
              "        if (!dataTable) return;\n",
              "\n",
              "        const docLinkHtml = 'Like what you see? Visit the ' +\n",
              "          '<a target=\"_blank\" href=https://colab.research.google.com/notebooks/data_table.ipynb>data table notebook</a>'\n",
              "          + ' to learn more about interactive tables.';\n",
              "        element.innerHTML = '';\n",
              "        dataTable['output_type'] = 'display_data';\n",
              "        await google.colab.output.renderOutput(dataTable, element);\n",
              "        const docLink = document.createElement('div');\n",
              "        docLink.innerHTML = docLinkHtml;\n",
              "        element.appendChild(docLink);\n",
              "      }\n",
              "    </script>\n",
              "  </div>\n",
              "\n",
              "\n",
              "<div id=\"df-4f44bc0f-e24e-48a7-a51a-85ad25af6227\">\n",
              "  <button class=\"colab-df-quickchart\" onclick=\"quickchart('df-4f44bc0f-e24e-48a7-a51a-85ad25af6227')\"\n",
              "            title=\"Suggest charts\"\n",
              "            style=\"display:none;\">\n",
              "\n",
              "<svg xmlns=\"http://www.w3.org/2000/svg\" height=\"24px\"viewBox=\"0 0 24 24\"\n",
              "     width=\"24px\">\n",
              "    <g>\n",
              "        <path d=\"M19 3H5c-1.1 0-2 .9-2 2v14c0 1.1.9 2 2 2h14c1.1 0 2-.9 2-2V5c0-1.1-.9-2-2-2zM9 17H7v-7h2v7zm4 0h-2V7h2v10zm4 0h-2v-4h2v4z\"/>\n",
              "    </g>\n",
              "</svg>\n",
              "  </button>\n",
              "\n",
              "<style>\n",
              "  .colab-df-quickchart {\n",
              "      --bg-color: #E8F0FE;\n",
              "      --fill-color: #1967D2;\n",
              "      --hover-bg-color: #E2EBFA;\n",
              "      --hover-fill-color: #174EA6;\n",
              "      --disabled-fill-color: #AAA;\n",
              "      --disabled-bg-color: #DDD;\n",
              "  }\n",
              "\n",
              "  [theme=dark] .colab-df-quickchart {\n",
              "      --bg-color: #3B4455;\n",
              "      --fill-color: #D2E3FC;\n",
              "      --hover-bg-color: #434B5C;\n",
              "      --hover-fill-color: #FFFFFF;\n",
              "      --disabled-bg-color: #3B4455;\n",
              "      --disabled-fill-color: #666;\n",
              "  }\n",
              "\n",
              "  .colab-df-quickchart {\n",
              "    background-color: var(--bg-color);\n",
              "    border: none;\n",
              "    border-radius: 50%;\n",
              "    cursor: pointer;\n",
              "    display: none;\n",
              "    fill: var(--fill-color);\n",
              "    height: 32px;\n",
              "    padding: 0;\n",
              "    width: 32px;\n",
              "  }\n",
              "\n",
              "  .colab-df-quickchart:hover {\n",
              "    background-color: var(--hover-bg-color);\n",
              "    box-shadow: 0 1px 2px rgba(60, 64, 67, 0.3), 0 1px 3px 1px rgba(60, 64, 67, 0.15);\n",
              "    fill: var(--button-hover-fill-color);\n",
              "  }\n",
              "\n",
              "  .colab-df-quickchart-complete:disabled,\n",
              "  .colab-df-quickchart-complete:disabled:hover {\n",
              "    background-color: var(--disabled-bg-color);\n",
              "    fill: var(--disabled-fill-color);\n",
              "    box-shadow: none;\n",
              "  }\n",
              "\n",
              "  .colab-df-spinner {\n",
              "    border: 2px solid var(--fill-color);\n",
              "    border-color: transparent;\n",
              "    border-bottom-color: var(--fill-color);\n",
              "    animation:\n",
              "      spin 1s steps(1) infinite;\n",
              "  }\n",
              "\n",
              "  @keyframes spin {\n",
              "    0% {\n",
              "      border-color: transparent;\n",
              "      border-bottom-color: var(--fill-color);\n",
              "      border-left-color: var(--fill-color);\n",
              "    }\n",
              "    20% {\n",
              "      border-color: transparent;\n",
              "      border-left-color: var(--fill-color);\n",
              "      border-top-color: var(--fill-color);\n",
              "    }\n",
              "    30% {\n",
              "      border-color: transparent;\n",
              "      border-left-color: var(--fill-color);\n",
              "      border-top-color: var(--fill-color);\n",
              "      border-right-color: var(--fill-color);\n",
              "    }\n",
              "    40% {\n",
              "      border-color: transparent;\n",
              "      border-right-color: var(--fill-color);\n",
              "      border-top-color: var(--fill-color);\n",
              "    }\n",
              "    60% {\n",
              "      border-color: transparent;\n",
              "      border-right-color: var(--fill-color);\n",
              "    }\n",
              "    80% {\n",
              "      border-color: transparent;\n",
              "      border-right-color: var(--fill-color);\n",
              "      border-bottom-color: var(--fill-color);\n",
              "    }\n",
              "    90% {\n",
              "      border-color: transparent;\n",
              "      border-bottom-color: var(--fill-color);\n",
              "    }\n",
              "  }\n",
              "</style>\n",
              "\n",
              "  <script>\n",
              "    async function quickchart(key) {\n",
              "      const quickchartButtonEl =\n",
              "        document.querySelector('#' + key + ' button');\n",
              "      quickchartButtonEl.disabled = true;  // To prevent multiple clicks.\n",
              "      quickchartButtonEl.classList.add('colab-df-spinner');\n",
              "      try {\n",
              "        const charts = await google.colab.kernel.invokeFunction(\n",
              "            'suggestCharts', [key], {});\n",
              "      } catch (error) {\n",
              "        console.error('Error during call to suggestCharts:', error);\n",
              "      }\n",
              "      quickchartButtonEl.classList.remove('colab-df-spinner');\n",
              "      quickchartButtonEl.classList.add('colab-df-quickchart-complete');\n",
              "    }\n",
              "    (() => {\n",
              "      let quickchartButtonEl =\n",
              "        document.querySelector('#df-4f44bc0f-e24e-48a7-a51a-85ad25af6227 button');\n",
              "      quickchartButtonEl.style.display =\n",
              "        google.colab.kernel.accessAllowed ? 'block' : 'none';\n",
              "    })();\n",
              "  </script>\n",
              "</div>\n",
              "\n",
              "    </div>\n",
              "  </div>\n"
            ],
            "application/vnd.google.colaboratory.intrinsic+json": {
              "type": "dataframe",
              "summary": "{\n  \"name\": \"df[['email_body', 'cleaned_body']]\",\n  \"rows\": 5,\n  \"fields\": [\n    {\n      \"column\": \"email_body\",\n      \"properties\": {\n        \"dtype\": \"string\",\n        \"num_unique_values\": 5,\n        \"samples\": [\n          \"Subject:\\r\\nRashmi Shree, your application was sent to Healthify\\r\\nFrom:\\r\\nLinkedIn <jobs-noreply@linkedin.com>\\r\\nDate:\\r\\n4/2/25, 1:22 AM\\r\\nTo:\\r\\nRashmi Shree Veeraiah <rashmishreeveeraiah@gmail.com>\\r\\nYour application was sent to Healthify\\r\\n\\u034f \\u034f \\u034f \\u034f \\u034f \\u034f \\u034f \\u034f \\u034f \\u034f  \\u034f \\u034f \\u034f \\u034f \\u034f \\u034f \\u034f \\u034f \\u034f \\u034f  \\u034f \\u034f \\u034f \\u034f \\u034f \\u034f \\u034f \\u034f \\u034f \\u034f  \\u034f \\u034f \\u034f \\u034f \\u034f \\u034f \\u034f \\u034f \\u034f \\u034f  \\u034f \\u034f \\u034f \\u034f \\u034f \\u034f \\u034f \\u034f \\u034f \\u034f  \\u034f \\u034f \\u034f \\u034f \\u034f \\u034f \\u034f \\u034f \\u034f \\u034f  \\u034f \\u034f \\u034f \\u034f \\u034f \\u034f \\u034f \\u034f \\u034f \\u034f  \\u034f \\u034f \\u034f \\u034f \\u034f \\u034f \\u034f \\u034f \\u034f \\u034f  \\u034f \\u034f \\u034f \\u034f \\u034f \\u034f \\u034f \\u034f \\u034f \\u034f  \\u034f \\u034f \\u034f \\u034f \\u034f \\u034f \\u034f \\u034f \\u034f \\u034f  \\u034f \\u034f \\u034f \\u034f \\u034f \\u034f \\u034f \\u034f \\u034f \\u034f  \\u034f \\u034f \\u034f \\u034f \\u034f \\u034f \\u034f \\u034f \\u034f \\u034f  \\u034f \\u034f \\u034f \\u034f \\u034f \\u034f \\u034f \\u034f \\u034f \\u034f  \\u034f \\u034f \\u034f \\u034f \\u034f \\u034f \\u034f \\u034f \\u034f \\u034f  \\u034f \\u034f \\u034f \\u034f \\u034f \\u034f \\u034f \\u034f \\u034f \\u034f  \\u034f \\u034f \\u034f \\u034f \\u034f \\u034f \\u034f \\u034f \\u034f \\u034f \\r\\nLinkedIn \\t\\r\\nRashmi Shree Veeraiah\\r\\nYour application was sent to Healthify\\r\\nHealthify \\t\\r\\nProduct Analyst\\r\\nHealthify \\u00b7 Bengaluru (On-site)\\r\\nApplied on April 2, 2025\\r\\nNow, take these next steps for more success\\r\\nView similar jobs you may be interested in\\r\\nActivision \\t\\r\\nData Analyst, Business Analytics\\r\\nActivision \\u00b7 Santa Monica, CA\\r\\nSan Jos\\u00e9 State University \\t\\r\\n2 school alumni\\r\\nLockheed Martin \\t\\r\\nData Analyst - Level 2 - Junior Level\\r\\nLockheed Martin \\u00b7 Fort Worth, TX\\r\\nElayna Seguin \\t\\r\\n1 connection\\r\\nSan Jos\\u00e9 State University \\t\\r\\n983 school alumni\\r\\nFord Motor Company \\t\\r\\nData Analyst\\r\\nFord Motor Company \\u00b7 United States (Remote)\\r\\nSan Jos\\u00e9 State University \\t\\r\\n106 school alumni\\r\\nThis email was intended for Rashmi Shree Veeraiah (Data Science and Analytics | SQL, Tableau, Python, Salesforce CRM)\\r\\nLearn why we included this.\\r\\nYou are receiving LinkedIn notification emails.\\r\\nUnsubscribe   \\u00b7   Help\\r\\nLinkedIn\\r\\n\\u00a9 2025 LinkedIn Corporation, 1\\u200c000 West Maude Avenue, Sunnyvale, CA 94085. LinkedIn and the LinkedIn logo are registered trademarks of LinkedIn.\",\n          \"Subject:\\r\\nYour IBM Application: Next Steps\\r\\nFrom:\\r\\nIBM Talent Acquisition <talent@ibm.com>\\r\\nDate:\\r\\n4/2/25, 1:09 AM\\r\\nTo:\\r\\nrashmishreeveeraiah@gmail.com\\r\\nIBM Careers\\r\\nIBM Careers \\tIBM Logo\\r\\n \\r\\nRef: 14499 - Business Analyst-ADM\\r\\nDear Rashmi Shree Veeraiah,\\r\\nWe are excited to see that you have applied for a position at IBM, and we want to ensure that you have the best opportunity to showcase your fantastic skills. We understand that a resume alone doesn't always reflect a candidate's full potential. That's why we invite you to complete one or more of the following assessments, which will help us gain a more comprehensive view of your capabilities.\\r\\nIBM values accessibility and is committed to ensuring that every candidate has an equal opportunity to showcase their skills and potential. We support measures like additional time for persons with disabilities on selection assessments.\\r\\nWe use the following assessments for selection purposes. You will be invited to complete 1 or more of these assessments, depending on the role you are applying for. The next step in the process includes one or more assessments \\u2013 described below.\\r\\nThe Coding Assessment - helps us to understand your level of programming knowledge and ability. You will be presented with a coding interface to solve coding challenges. This is a timed assessment.\\r\\nRecorded Competency Video - this short and engaging assessment allows you to demonstrate your workplace competency beyond what a traditional resume allows. You will be presented with a pre-recorded question, and you will be asked to record your response . This is a timed assessment. \\r\\nEnglish Language Assessment: Evaluate your English Language skills and competencies. This is a timed assessment.\\r\\nWe believe that these assessments will provide you with a better opportunity to showcase your skills, and we encourage you to take them seriously. We also want to make sure that you feel comfortable and supported throughout the process.\\r\\nAll applicants are requested to click the accommodation link below. If you are a person with a disability, please follow the link to submit any adjustments that you require, such as extra time. IBM will review the details of your requirements and work with you on any adjustment options for your application. It is important that you submit your requirements before starting any assessments. If you do not need extra time on the assessments, please mark your response in the link below.\\r\\nAccommodation Form\\r\\nPlease note that this form must be completed for each position you apply for that requires an assessment.\\r\\nFor additional information and helpful tips, please visit our blog.\\r\\nWe appreciate your interest in joining our team and wish you the best of luck as you complete these assessments. We can't wait to see all that you have to offer!\\r\\nSincerely,\\r\\nThe IBM Talent Acquisition Team\\r\\nDid a friend forward this to you? You can subscribe here.\\r\\nLinkedIn \\tX \\tyoutube \\tinstagram \\tGlassdoor \\tIBM icon\\r\\nibm.com/careers\\r\\n\\u00a9 IBM Corporation 2023. IBM, the IBM logo, IBM Cloud\\u2122 and ibm.com are trademarks of the International Business Machines Corp., registered in many jurisdictions worldwide. This document is current as of the initial date of publication and may be changed by IBM at any time. Not all offerings are available in every country in which IBM operates.\\r\\nTo ensure delivery to your inbox, please add talent@ibm.com to your address book. Please do not reply to this email, as we are unable to respond from this address.\\r\\nIf you\\u2019d like us to refrain from sending your similar e-mails in the future, please click on the unsubscribe link below. You may also mail a written request to IBM US at: IBM Corporation, 11501 Burnet Rd, Bldg 904 3B-000, Austin, TX 78758.\\r\\n\\u00a9 IBM | Data Privacy Policy\",\n          \"Subject:\\r\\nThank you for Applying to Amazon!\\r\\nFrom:\\r\\nnoreply@mail.amazon.jobs\\r\\nDate:\\r\\n4/2/25, 1:18 AM\\r\\nTo:\\r\\nrashmishreeveeraiah@gmail.com\\r\\nThank you for Applying to Amazon!\\r\\nAmazon.jobs\\r\\n\\t\\r\\nHi Rashmi Shree,\\r\\nThanks for applying to Amazon! We've received your application for the Business Analyst, IN S&OP (ID: 2879110) position.\\r\\nWhat happens next?\\r\\nIf we decide to move forward with your application, the Amazon recruiting team will contact you to discuss the next steps. Any updates to your application status will be reflected on your Application dashboard, so be sure to check back regularly.\\r\\nGo to your application dashboard\\r\\nExplore our interview resources for more information on the hiring process and how to prepare for interviews. To learn more about our peculiar culture, visit Amazon.jobs and get the latest Amazon news and stories by following our Day One blog.\\r\\nBest regards,\\r\\nAmazon Recruiting Team\\r\\nAmazon is an equal opportunity employer. Protecting your privacy and the security of your data are longstanding top priorities for Amazon. If you are an external candidate, please consult our Privacy Notice to learn more about how we collect, use and transfer the personal data of our candidates. You can let us know if you do not want to be contacted for recruitment purposes. Please refer to the \\\"What are my rights under applicable data protection laws?\\\" section of the Notice for more information. If you are an internal candidate, please consult the Employee Privacy Notice.\\r\\nPlease do not reply to this email as we cannot review or respond to messages at this address.\\r\\n\\t\\r\\n \\r\\n\\t\\r\\n \\r\\n    Facebook\\r\\n    LinkedIn\\r\\n    Instagram\\r\\n    X\\r\\n\\t\"\n        ],\n        \"semantic_type\": \"\",\n        \"description\": \"\"\n      }\n    },\n    {\n      \"column\": \"cleaned_body\",\n      \"properties\": {\n        \"dtype\": \"string\",\n        \"num_unique_values\": 5,\n        \"samples\": [\n          \"Your application was sent to Healthify\\n\\u034f \\u034f \\u034f \\u034f \\u034f \\u034f \\u034f \\u034f \\u034f \\u034f \\u034f \\u034f \\u034f \\u034f \\u034f \\u034f \\u034f \\u034f \\u034f \\u034f \\u034f \\u034f \\u034f \\u034f \\u034f \\u034f \\u034f \\u034f \\u034f \\u034f \\u034f \\u034f \\u034f \\u034f \\u034f \\u034f \\u034f \\u034f \\u034f \\u034f \\u034f \\u034f \\u034f \\u034f \\u034f \\u034f \\u034f \\u034f \\u034f \\u034f \\u034f \\u034f \\u034f \\u034f \\u034f \\u034f \\u034f \\u034f \\u034f \\u034f \\u034f \\u034f \\u034f \\u034f \\u034f \\u034f \\u034f \\u034f \\u034f \\u034f \\u034f \\u034f \\u034f \\u034f \\u034f \\u034f \\u034f \\u034f \\u034f \\u034f \\u034f \\u034f \\u034f \\u034f \\u034f \\u034f \\u034f \\u034f \\u034f \\u034f \\u034f \\u034f \\u034f \\u034f \\u034f \\u034f \\u034f \\u034f \\u034f \\u034f \\u034f \\u034f \\u034f \\u034f \\u034f \\u034f \\u034f \\u034f \\u034f \\u034f \\u034f \\u034f \\u034f \\u034f \\u034f \\u034f \\u034f \\u034f \\u034f \\u034f \\u034f \\u034f \\u034f \\u034f \\u034f \\u034f \\u034f \\u034f \\u034f \\u034f \\u034f \\u034f \\u034f \\u034f \\u034f \\u034f \\u034f \\u034f \\u034f \\u034f \\u034f \\u034f \\u034f \\u034f \\u034f \\u034f \\u034f \\u034f \\u034f \\u034f \\u034f \\u034f \\u034f \\u034f \\u034f \\u034f \\u034f \\u034f \\u034f \\u034f \\n \\nRashmi Shree Veeraiah\\nYour application was sent to Healthify\\nHealthify \\nProduct Analyst\\nHealthify \\u00b7 Bengaluru (On-site)\\nApplied on April 2, 2025\\nNow, take these next steps for more success\\nView similar jobs you may be interested in\\nActivision \\nData Analyst, Business Analytics\\nActivision \\u00b7 Santa Monica, CA\\nSan Jos\\u00e9 State University \\n2 school alumni\\nLockheed Martin \\nData Analyst - Level 2 - Junior Level\\nLockheed Martin \\u00b7 Fort Worth, TX\\nElayna Seguin \\n1 connection\\nSan Jos\\u00e9 State University \\n983 school alumni\\nFord Motor Company \\nData Analyst\\nFord Motor Company \\u00b7 United States (Remote)\\nSan Jos\\u00e9 State University \\n106 school alumni\\nThis email was intended for Rashmi Shree Veeraiah (Data Science and Analytics | SQL, Tableau, Python, Salesforce CRM)\\nLearn why we included this.\\nYou are receiving notification emails.\",\n          \"IBM Careers\\nIBM Careers IBM \\n \\nRef: 14499 - Business Analyst-ADM\\nDear Rashmi Shree Veeraiah,\\nWe are excited to see that you have applied for a position at IBM, and we want to ensure that you have the best opportunity to showcase your fantastic skills. We understand that a resume alone doesn't always reflect a candidate's full potential. That's why we invite you to complete one or more of the following assessments, which will help us gain a more comprehensive view of your capabilities.\\nIBM values accessibility and is committed to ensuring that every candidate has an equal opportunity to showcase their skills and potential. We support measures like additional time for persons with disabilities on selection assessments.\\nWe use the following assessments for selection purposes. You will be invited to complete 1 or more of these assessments, depending on the role you are applying for. The next step in the process includes one or more assessments \\u2013 described below.\\nThe Coding Assessment - helps us to understand your level of programming knowledge and ability. You will be presented with a coding interface to solve coding challenges. This is a timed assessment.\\nRecorded Competency Video - this short and engaging assessment allows you to demonstrate your workplace competency beyond what a traditional resume allows. You will be presented with a pre-recorded question, and you will be asked to record your response . This is a timed assessment. \\nEnglish Language Assessment: Evaluate your English Language skills and competencies. This is a timed assessment.\\nWe believe that these assessments will provide you with a better opportunity to showcase your skills, and we encourage you to take them seriously. We also want to make sure that you feel comfortable and supported throughout the process.\\nAll applicants are requested to click the accommodation link below. If you are a person with a disability, please follow the link to submit any adjustments that you require, such as extra time. IBM will review the details of your requirements and work with you on any adjustment options for your application. It is important that you submit your requirements before starting any assessments. If you do not need extra time on the assessments, please mark your response in the link below.\\nAccommodation Form\\nPlease note that this form must be completed for each position you apply for that requires an assessment.\\nFor additional information and helpful tips, please visit our blog.\\nWe appreciate your interest in joining our team and wish you the best of luck as you complete these assessments. We can't wait to see all that you have to offer!\\nSincerely,\\nThe IBM Talent Acquisition Team\",\n          \"Thank you for Applying to Amazon!\\nAmazon.jobs\\n\\t\\nHi Rashmi Shree,\\nThanks for applying to Amazon! We've received your application for the Business Analyst, IN S&OP (ID: 2879110) position.\\nWhat happens next?\\nIf we decide to move forward with your application, the Amazon recruiting team will contact you to discuss the next steps. Any updates to your application status will be reflected on your Application dashboard, so be sure to check back regularly.\\nGo to your application dashboard\\nExplore our interview resources for more information on the hiring process and how to prepare for interviews. To learn more about our peculiar culture, visit Amazon.jobs and get the latest Amazon news and stories by following our Day One blog.\\nBest regards,\\nAmazon Recruiting Team\"\n        ],\n        \"semantic_type\": \"\",\n        \"description\": \"\"\n      }\n    }\n  ]\n}"
            }
          },
          "metadata": {},
          "execution_count": 17
        }
      ]
    },
    {
      "cell_type": "markdown",
      "source": [
        "The generated output will contain exclusively the email body, processed to remove all other components."
      ],
      "metadata": {
        "id": "3LqN6cf09gDi"
      }
    },
    {
      "cell_type": "code",
      "source": [
        "df['cleaned_body'][8]"
      ],
      "metadata": {
        "colab": {
          "base_uri": "https://localhost:8080/",
          "height": 53
        },
        "id": "LOcgFJx6EIEo",
        "outputId": "2f9d3551-3054-4c41-eebc-bd04ff26ae7a"
      },
      "execution_count": null,
      "outputs": [
        {
          "output_type": "execute_result",
          "data": {
            "text/plain": [
              "'Rashmi Shree,\\nThank you for your interest in our Operations Associate role at Coursera!\\nWe have received your application and our team will review it promptly. If your skills and experience align with the requirements of the position, we will be in touch with you soon.\\nRegards,\\nCoursera'"
            ],
            "application/vnd.google.colaboratory.intrinsic+json": {
              "type": "string"
            }
          },
          "metadata": {},
          "execution_count": 18
        }
      ]
    },
    {
      "cell_type": "markdown",
      "source": [
        "### **Checkpoint:** Save the df of cleaned email bodies to a CSV\n",
        "\n"
      ],
      "metadata": {
        "id": "g8aW_gyC1nPi"
      }
    },
    {
      "cell_type": "code",
      "source": [
        "# Save to CSV\n",
        "df.to_csv(\"cleaned_emails.csv\", index=False)\n",
        "\n",
        "# Copy the cleaned df to a new df\n",
        "clean_emails = df.copy()\n",
        "\n",
        "# Uncomment to download the csv\n",
        "# files.download('cleaned_emails.csv')"
      ],
      "metadata": {
        "id": "DUnNiKyWEPKT"
      },
      "execution_count": null,
      "outputs": []
    },
    {
      "cell_type": "markdown",
      "source": [
        "\n",
        "\n",
        "---\n",
        "\n"
      ],
      "metadata": {
        "id": "t0XPI4fy1jbs"
      }
    },
    {
      "cell_type": "markdown",
      "source": [
        "## Additional Pre-processing to remove PII"
      ],
      "metadata": {
        "id": "CX6LnK80yWiH"
      }
    },
    {
      "cell_type": "markdown",
      "source": [
        "PII replacement with \"Michael Gary Scott\"."
      ],
      "metadata": {
        "id": "auB-vz95gbQu"
      }
    },
    {
      "cell_type": "code",
      "source": [
        "# Subset first 10 rows for testing PII replacement\n",
        "clean_emails_subset = clean_emails.head(10)"
      ],
      "metadata": {
        "id": "sdTn7f84g9Vs"
      },
      "execution_count": null,
      "outputs": []
    },
    {
      "cell_type": "code",
      "source": [
        "clean_emails_subset.loc[:, 'cleaned_body'] = clean_emails_subset['cleaned_body'].str.replace(\n",
        "    r'\\bRashmi(?:\\sShree)?(?:\\sVeeraiah)?\\b',\n",
        "    'Micheal Gary Scott',\n",
        "    regex=True\n",
        ")"
      ],
      "metadata": {
        "id": "9fapXXCyiOB0"
      },
      "execution_count": null,
      "outputs": []
    },
    {
      "cell_type": "code",
      "source": [
        "clean_emails_subset['cleaned_body'][0]"
      ],
      "metadata": {
        "colab": {
          "base_uri": "https://localhost:8080/",
          "height": 143
        },
        "id": "gZpmPOKUmYUb",
        "outputId": "9303668d-8346-4100-f725-e15eff7bd6d6"
      },
      "execution_count": null,
      "outputs": [
        {
          "output_type": "execute_result",
          "data": {
            "text/plain": [
              "'Hello Micheal Gary Scott, \\n \\nWe’ve received your application for the Decision Scientist position at Tesco. Thank you for taking the time to apply and for considering joining us. \\n \\nSo, what happens next? \\n \\nFirst of all, our recruitment team will take a look at your application – if your skills and experience match the position, we’ll get in touch to arrange next steps. \\n \\nWe know how much effort it takes to put together an application, so we review each one carefully. As soon as we’ve got any news for you, we’ll get in touch via email.\\n \\nWe are proud to have an inclusive culture at Tesco where everyone truly feels able to be themselves. This is because we not only celebrate diversity, but recognise the value and opportunity it brings. Therefore, we are committed to creating a workplace where differences are valued, and make sure that all colleagues are given the same opportunities. We’re proud to have been accredited Disability Confident Leader and we’re committed to providing a fully inclusive and accessible recruitment process. \\n \\nIf you need any further help or have any questions, please check out our frequently asked questions on our career site. \\nThank you again for your interest in Tesco. \\n \\nTesco Talent Acquisition team \\nraspberrys\\nTo review and change your preferences \\nContact us Accessibility information\\nLegal:\\n Indeed \\nThis is an email from Tesco Stores Limited ('"
            ],
            "application/vnd.google.colaboratory.intrinsic+json": {
              "type": "string"
            }
          },
          "metadata": {},
          "execution_count": 22
        }
      ]
    },
    {
      "cell_type": "markdown",
      "source": [
        "Anonymize email function by redacting original names."
      ],
      "metadata": {
        "id": "h1EOXwUU-D7S"
      }
    },
    {
      "cell_type": "markdown",
      "source": [
        "The function will be applied to the entirety of the dataset to generate the result as previously described."
      ],
      "metadata": {
        "id": "0aP6c7x5-r60"
      }
    },
    {
      "cell_type": "code",
      "source": [
        "import pandas as pd\n",
        "import re\n",
        "\n",
        "def anonymize_name_from_email_body(df, column='cleaned_body', replacement='Michael Gary Scott'):\n",
        "    \"\"\"\n",
        "    Anonymizes specific name patterns (e.g., 'Rashmi', 'RashmiShree', 'Rashmi Veeraiah')\n",
        "    from the given text column in a DataFrame. Handles cases where names are written with\n",
        "    or without spaces.\n",
        "\n",
        "    Args:\n",
        "        df (pd.DataFrame): Input DataFrame with a column containing email body text.\n",
        "        column (str): Column name that contains the text to anonymize.\n",
        "        replacement (str): Name to replace all matches with.\n",
        "\n",
        "    Returns:\n",
        "        pd.DataFrame: Copy of the input DataFrame with an added 'anonymized_email_body' column.\n",
        "    \"\"\"\n",
        "\n",
        "    # Match patterns like 'John', 'JohnLam', 'John Lam', 'JohnPrinceLam', 'John Prince Lam'.\n",
        "    name_pattern = r'\\bRashmi(?:\\s?Shree)?(?:\\s?Veeraiah)?\\b'\n",
        "\n",
        "    df = df.copy()\n",
        "    df['anonymized_email_body'] = df[column].str.replace(name_pattern, replacement, regex=True)\n",
        "    return df"
      ],
      "metadata": {
        "id": "A0wu_Vtu6upi"
      },
      "execution_count": null,
      "outputs": []
    },
    {
      "cell_type": "code",
      "source": [
        "clean_emails = anonymize_name_from_email_body(clean_emails, column='cleaned_body')"
      ],
      "metadata": {
        "id": "3Ag7lpvrNbY4"
      },
      "execution_count": null,
      "outputs": []
    }
  ]
}